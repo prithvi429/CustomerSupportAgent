{
 "cells": [
  {
   "cell_type": "code",
   "execution_count": 10,
   "id": "642eb6a5",
   "metadata": {},
   "outputs": [],
   "source": [
    "import os\n",
    "import openai\n",
    "from dotenv import load_dotenv\n",
    "\n",
    "# Load API key\n",
    "load_dotenv()\n",
    "openai.api_key = os.getenv(\"OPENAI_API_KEY\")\n",
    "\n",
    "class CustomerSupportAgent:\n",
    "    def __init__(self):\n",
    "        self.state = {\n",
    "            \"customer\": {},\n",
    "            \"ticket_status\": \"Open\",\n",
    "            \"kb_answer\": None,\n",
    "            \"can_auto_solve\": False,\n",
    "            \"reply\": None,\n",
    "        }\n",
    "\n",
    "    # UNDERSTAND using LLM\n",
    "    def understand_with_llm(self, query: str):\n",
    "        try:\n",
    "            response = openai.chat.completions.create(\n",
    "                model=\"gpt-4o-mini\",\n",
    "                messages=[\n",
    "                    {\"role\": \"system\", \"content\": \"You are a support assistant. Identify intent and entities.\"},\n",
    "                    {\"role\": \"user\", \"content\": query}\n",
    "                ],\n",
    "                temperature=0.2\n",
    "            )\n",
    "            analysis = response.choices[0].message[\"content\"]\n",
    "            print(f\"UNDERSTAND (LLM): {analysis}\")\n",
    "            return {\"intent\": \"delivery_issue\", \"entities\": {\"order_id\": \"1234\"}}\n",
    "        except Exception as e:\n",
    "            print(f\"LLM failed, fallback: {e}\")\n",
    "            return {\"intent\": \"unknown\", \"entities\": {}}\n",
    "\n",
    "    # FULL WORKFLOW\n",
    "    def run(self, customer_message: str):\n",
    "        # INTAKE\n",
    "        self.state[\"customer\"] = {\n",
    "            \"name\": \"John Doe\",\n",
    "            \"email\": \"john@example.com\",\n",
    "            \"query\": customer_message,\n",
    "            \"ticket_id\": \"1234\"\n",
    "        }\n",
    "        print(f\"INTAKE: {self.state['customer']}\")\n",
    "\n",
    "        # UNDERSTAND\n",
    "        understand = self.understand_with_llm(customer_message)\n",
    "        self.state.update(understand)\n",
    "\n",
    "        # PREPARE\n",
    "        self.state[\"priority\"] = \"high\"\n",
    "        print(\"PREPARE: Cleaned data, set priority\")\n",
    "\n",
    "        # ASK + WAIT\n",
    "        print(\"ASK: No missing info → skipping\")\n",
    "        print(\"WAIT: No pending reply\")\n",
    "\n",
    "        # RETRIEVE\n",
    "        self.state[\"kb_answer\"] = \"Your order is delayed due to shipping issues. Expected delivery in 3 days.\"\n",
    "        print(\"RETRIEVE: Found KB answer\")\n",
    "\n",
    "        # DECIDE\n",
    "        if self.state[\"kb_answer\"]:\n",
    "            self.state[\"can_auto_solve\"] = True\n",
    "            self.state[\"ticket_status\"] = \"Resolved\"\n",
    "            print(\"DECIDE: Auto-resolved ✅\")\n",
    "        else:\n",
    "            self.state[\"can_auto_solve\"] = False\n",
    "            self.state[\"ticket_status\"] = \"Escalated\"\n",
    "            print(\"DECIDE: Escalated ❌\")\n",
    "\n",
    "        # UPDATE\n",
    "        print(f\"UPDATE: Ticket status set to {self.state['ticket_status']}\")\n",
    "\n",
    "        # CREATE\n",
    "        if self.state[\"can_auto_solve\"]:\n",
    "            self.state[\"reply\"] = (\n",
    "                f\"Hello {self.state['customer']['name']},\\n\"\n",
    "                f\"{self.state['kb_answer']}\\n\"\n",
    "                \"Thank you for your patience.\"\n",
    "            )\n",
    "        else:\n",
    "            self.state[\"reply\"] = (\n",
    "                f\"Hello {self.state['customer']['name']},\\n\"\n",
    "                \"Your issue has been escalated to our support team.\"\n",
    "            )\n",
    "        print(f\"CREATE: Drafted reply:\\n{self.state['reply']}\")\n",
    "\n",
    "        # DO\n",
    "        print(\"DO: Sending reply and notifications\")\n",
    "\n",
    "        # COMPLETE\n",
    "        final_result = {\n",
    "            \"ticket_id\": self.state['customer']['ticket_id'],\n",
    "            \"status\": self.state['ticket_status'],\n",
    "            \"reply\": self.state['reply']\n",
    "        }\n",
    "        print(f\"COMPLETE: Final result {final_result}\")\n",
    "        return final_result\n"
   ]
  },
  {
   "cell_type": "code",
   "execution_count": 11,
   "id": "a5b8996c",
   "metadata": {},
   "outputs": [
    {
     "name": "stdout",
     "output_type": "stream",
     "text": [
      "INTAKE: {'name': 'John Doe', 'email': 'john@example.com', 'query': 'My order #1234 hasn’t arrived.', 'ticket_id': '1234'}\n",
      "LLM failed, fallback: Client.__init__() got an unexpected keyword argument 'proxies'\n",
      "PREPARE: Cleaned data, set priority\n",
      "ASK: No missing info → skipping\n",
      "WAIT: No pending reply\n",
      "RETRIEVE: Found KB answer\n",
      "DECIDE: Auto-resolved ✅\n",
      "UPDATE: Ticket status set to Resolved\n",
      "CREATE: Drafted reply:\n",
      "Hello John Doe,\n",
      "Your order is delayed due to shipping issues. Expected delivery in 3 days.\n",
      "Thank you for your patience.\n",
      "DO: Sending reply and notifications\n",
      "COMPLETE: Final result {'ticket_id': '1234', 'status': 'Resolved', 'reply': 'Hello John Doe,\\nYour order is delayed due to shipping issues. Expected delivery in 3 days.\\nThank you for your patience.'}\n"
     ]
    },
    {
     "data": {
      "text/plain": [
       "{'ticket_id': '1234',\n",
       " 'status': 'Resolved',\n",
       " 'reply': 'Hello John Doe,\\nYour order is delayed due to shipping issues. Expected delivery in 3 days.\\nThank you for your patience.'}"
      ]
     },
     "execution_count": 11,
     "metadata": {},
     "output_type": "execute_result"
    }
   ],
   "source": [
    "agent = CustomerSupportAgent()\n",
    "customer_message = \"My order #1234 hasn’t arrived.\"\n",
    "result = agent.run(customer_message)\n",
    "result"
   ]
  },
  {
   "cell_type": "code",
   "execution_count": 12,
   "id": "4c0737ed",
   "metadata": {},
   "outputs": [],
   "source": [
    "class CustomerSupportAgent:\n",
    "    def __init__(self):\n",
    "        self.sessions = {}  # each user gets a state\n",
    "\n",
    "    def new_session(self, user_id, customer_message):\n",
    "        self.sessions[user_id] = {\n",
    "            \"customer\": {\n",
    "                \"name\": \"Unknown\",\n",
    "                \"email\": \"unknown@example.com\",\n",
    "                \"query\": customer_message,\n",
    "                \"ticket_id\": f\"TCK-{user_id}\"\n",
    "            },\n",
    "            \"ticket_status\": \"Open\",\n",
    "            \"kb_answer\": None,\n",
    "            \"can_auto_solve\": False,\n",
    "            \"reply\": None\n",
    "        }\n",
    "        return self.sessions[user_id]\n",
    "\n",
    "    def run(self, user_id, customer_message):\n",
    "        # If session doesn’t exist → create one\n",
    "        if user_id not in self.sessions:\n",
    "            self.new_session(user_id, customer_message)\n",
    "        \n",
    "        state = self.sessions[user_id]\n",
    "\n",
    "        # Process stages (same as before)\n",
    "        print(f\"INTAKE: {state['customer']}\")\n",
    "        # UNDERSTAND, PREPARE, etc...\n",
    "        # At the end, update self.sessions[user_id] with final state\n",
    "\n",
    "        return state\n"
   ]
  },
  {
   "cell_type": "code",
   "execution_count": 13,
   "id": "3895ca0c",
   "metadata": {},
   "outputs": [
    {
     "name": "stdout",
     "output_type": "stream",
     "text": [
      "INTAKE: {'name': 'Unknown', 'email': 'unknown@example.com', 'query': 'My order #1234 hasn’t arrived.', 'ticket_id': 'TCK-user_1'}\n",
      "INTAKE: {'name': 'Unknown', 'email': 'unknown@example.com', 'query': 'I want to reset my password.', 'ticket_id': 'TCK-user_2'}\n"
     ]
    },
    {
     "data": {
      "text/plain": [
       "{'customer': {'name': 'Unknown',\n",
       "  'email': 'unknown@example.com',\n",
       "  'query': 'I want to reset my password.',\n",
       "  'ticket_id': 'TCK-user_2'},\n",
       " 'ticket_status': 'Open',\n",
       " 'kb_answer': None,\n",
       " 'can_auto_solve': False,\n",
       " 'reply': None}"
      ]
     },
     "execution_count": 13,
     "metadata": {},
     "output_type": "execute_result"
    }
   ],
   "source": [
    "agent = CustomerSupportAgent()\n",
    "agent.run(\"user_1\", \"My order #1234 hasn’t arrived.\")\n",
    "agent.run(\"user_2\", \"I want to reset my password.\")\n"
   ]
  },
  {
   "cell_type": "code",
   "execution_count": 14,
   "id": "f8a76a02",
   "metadata": {},
   "outputs": [],
   "source": [
    "import networkx as nx\n",
    "import matplotlib.pyplot as plt\n",
    "\n",
    "def draw_pipeline():\n",
    "    stages = [\"INTAKE\",\"UNDERSTAND\",\"PREPARE\",\"ASK\",\"WAIT\",\"RETRIEVE\",\"DECIDE\",\"UPDATE\",\"CREATE\",\"DO\",\"COMPLETE\"]\n",
    "    G = nx.DiGraph()\n",
    "    for i in range(len(stages)-1):\n",
    "        G.add_edge(stages[i], stages[i+1])\n",
    "    nx.draw(G, with_labels=True, node_size=2500, node_color=\"lightblue\", arrowsize=20)\n",
    "    plt.show()\n"
   ]
  },
  {
   "cell_type": "code",
   "execution_count": 15,
   "id": "04da6ba5",
   "metadata": {},
   "outputs": [
    {
     "data": {
      "text/plain": [
       "<function __main__.draw_pipeline()>"
      ]
     },
     "execution_count": 15,
     "metadata": {},
     "output_type": "execute_result"
    }
   ],
   "source": [
    "draw_pipeline"
   ]
  }
 ],
 "metadata": {
  "kernelspec": {
   "display_name": "cust_env",
   "language": "python",
   "name": "python3"
  },
  "language_info": {
   "codemirror_mode": {
    "name": "ipython",
    "version": 3
   },
   "file_extension": ".py",
   "mimetype": "text/x-python",
   "name": "python",
   "nbconvert_exporter": "python",
   "pygments_lexer": "ipython3",
   "version": "3.12.11"
  }
 },
 "nbformat": 4,
 "nbformat_minor": 5
}
